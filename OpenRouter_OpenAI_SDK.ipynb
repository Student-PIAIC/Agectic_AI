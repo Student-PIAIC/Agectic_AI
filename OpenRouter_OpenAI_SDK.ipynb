{
  "nbformat": 4,
  "nbformat_minor": 0,
  "metadata": {
    "colab": {
      "provenance": [],
      "authorship_tag": "ABX9TyN8Kf5ymeLAt4KdyNehgfDl",
      "include_colab_link": true
    },
    "kernelspec": {
      "name": "python3",
      "display_name": "Python 3"
    },
    "language_info": {
      "name": "python"
    }
  },
  "cells": [
    {
      "cell_type": "markdown",
      "metadata": {
        "id": "view-in-github",
        "colab_type": "text"
      },
      "source": [
        "<a href=\"https://colab.research.google.com/github/Student-PIAIC/Agectic_AI/blob/main/OpenRouter_OpenAI_SDK.ipynb\" target=\"_parent\"><img src=\"https://colab.research.google.com/assets/colab-badge.svg\" alt=\"Open In Colab\"/></a>"
      ]
    },
    {
      "cell_type": "code",
      "execution_count": null,
      "metadata": {
        "id": "pVHJT3dd3Htk"
      },
      "outputs": [],
      "source": [
        "!pip install -Uq openai-agents"
      ]
    },
    {
      "cell_type": "code",
      "source": [
        "import nest_asyncio\n",
        "nest_asyncio.apply()"
      ],
      "metadata": {
        "id": "_JXEhYD63yDh"
      },
      "execution_count": null,
      "outputs": []
    },
    {
      "cell_type": "code",
      "source": [
        "from google.colab import userdata\n",
        "Open_Router_Key = userdata.get('open_router_key')"
      ],
      "metadata": {
        "id": "ZGrpho_KaQsD"
      },
      "execution_count": null,
      "outputs": []
    },
    {
      "cell_type": "markdown",
      "source": [
        "See all Models List: https://openrouter.ai/models"
      ],
      "metadata": {
        "id": "Tko7Icxebr4L"
      }
    },
    {
      "cell_type": "code",
      "source": [
        "Base_URL = \"https://openrouter.ai/api/v1\"\n",
        "MODEL = \"deepseek/deepseek-chat-v3-0324:free\""
      ],
      "metadata": {
        "id": "NqQHOCUPbEsj"
      },
      "execution_count": null,
      "outputs": []
    },
    {
      "cell_type": "code",
      "source": [
        "import requests\n",
        "import json\n",
        "\n",
        "response = requests.post(\n",
        "  url=f\"{Base_URL}/chat/completions\",\n",
        "    headers={\n",
        "        \"Authorization\": f\"Bearer {Open_Router_Key}\",\n",
        "    },\n",
        "    data=json.dumps({\n",
        "        \"model\": MODEL,\n",
        "        \"messages\": [\n",
        "            {\n",
        "                \"role\": \"user\",\n",
        "                \"content\": \"what is the capital of iran\"\n",
        "            }\n",
        "        ]\n",
        "    })\n",
        ")\n",
        "print(response.json())\n"
      ],
      "metadata": {
        "id": "CVy41AVtgnvj",
        "colab": {
          "base_uri": "https://localhost:8080/"
        },
        "outputId": "eeb984f9-f4db-4da0-fec3-e3dc8fd20d0b"
      },
      "execution_count": null,
      "outputs": [
        {
          "output_type": "stream",
          "name": "stdout",
          "text": [
            "{'id': 'gen-1745693036-YhU802bHZsRXXsdtehoZ', 'provider': 'Targon', 'model': 'deepseek/deepseek-chat-v3-0324:free', 'object': 'chat.completion', 'created': 1745693036, 'choices': [{'logprobs': None, 'finish_reason': 'stop', 'native_finish_reason': 'stop', 'index': 0, 'message': {'role': 'assistant', 'content': \"The capital of Iran is **Tehran**. It is the largest city in the country and serves as its political, economic, and cultural center. Let me know if you'd like more details!\", 'refusal': None, 'reasoning': None}}], 'usage': {'prompt_tokens': 13, 'completion_tokens': 40, 'total_tokens': 53}}\n"
          ]
        }
      ]
    },
    {
      "cell_type": "markdown",
      "source": [
        "Using OpenAI Agents SDK"
      ],
      "metadata": {
        "id": "a9ak76yJfFS-"
      }
    },
    {
      "cell_type": "code",
      "source": [
        "import asyncio\n",
        "from openai import AsyncOpenAI\n",
        "from agents import Agent, OpenAIChatCompletionsModel, Runner, set_tracing_disabled\n",
        "client = AsyncOpenAI(\n",
        "    base_url=Base_URL,\n",
        "    api_key=Open_Router_Key\n",
        ")\n",
        "set_tracing_disabled(disabled = True)\n",
        "async def main():\n",
        "  agent = Agent(\n",
        "    name= \"Asiistant\",\n",
        "    instructions=\"you are only respond cricket\",\n",
        "    model=OpenAIChatCompletionsModel(model=MODEL, openai_client=client),\n",
        ")\n",
        "  result = await Runner.run(\n",
        "      agent,\n",
        "      \"all time number 1 player of pakistan\"\n",
        "  )\n",
        "  print(result.final_output)\n",
        "if __name__ ==\"__main__\":\n",
        "  asyncio.run(main())\n",
        "\n",
        "\n",
        "\n",
        "\n"
      ],
      "metadata": {
        "colab": {
          "base_uri": "https://localhost:8080/"
        },
        "id": "cxOEpNgTfB7F",
        "outputId": "3df65017-c247-41a8-eace-a41375e8181d"
      },
      "execution_count": null,
      "outputs": [
        {
          "output_type": "stream",
          "name": "stdout",
          "text": [
            "The **all-time number 1 player from Pakistan** is widely considered to be **Imran Khan**, the legendary all-rounder and World Cup-winning captain. Here’s why he stands out:\n",
            "\n",
            "### **Imran Khan’s Achievements:**\n",
            "- **Captaincy:** Led Pakistan to its first **Cricket World Cup victory in 1992**.\n",
            "- **All-Round Great:** One of the greatest all-rounders in history (3,807 runs & 362 wickets in Tests).\n",
            "- **ICC Hall of Famer:** Inducted in 2009.\n",
            "- **Iconic Leadership:** Transformed Pakistan into a world-class team in the 1980s-90s.\n",
            "- **Bowling Prowess:** Peak ICC ranking of No. 1 bowler in ODIs (1988) and No. 3 in Tests.\n",
            "\n",
            "### **Other Contenders:**\n",
            "- **Wasim Akram** (Best left-arm fast bowler ever, 500+ intl wickets)\n",
            "- **Javed Miandad** (Pakistan’s leading Test run-scorer for decades)\n",
            "- **Inzamam-ul-Haq** (Match-winner, 20,000+ intl runs)\n",
            "- **Younis Khan** (Pakistan’s highest Test run-scorer, 10,000+ runs)\n",
            "\n",
            "But **Imran Khan** remains the most iconic due to his leadership, impact, and legacy beyond cricket (later becoming Pakistan’s Prime Minister).\n",
            "\n",
            "Would you like a focus on a specific format (Tests/ODIs) or role (batsman/bowler)?\n"
          ]
        }
      ]
    }
  ]
}