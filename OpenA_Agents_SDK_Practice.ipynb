{
  "nbformat": 4,
  "nbformat_minor": 0,
  "metadata": {
    "colab": {
      "provenance": [],
      "authorship_tag": "ABX9TyOl8ICQLiKOYIGENWC8mNOc",
      "include_colab_link": true
    },
    "kernelspec": {
      "name": "python3",
      "display_name": "Python 3"
    },
    "language_info": {
      "name": "python"
    }
  },
  "cells": [
    {
      "cell_type": "markdown",
      "metadata": {
        "id": "view-in-github",
        "colab_type": "text"
      },
      "source": [
        "<a href=\"https://colab.research.google.com/github/Student-PIAIC/Agectic_AI/blob/main/OpenA_Agents_SDK_Practice.ipynb\" target=\"_parent\"><img src=\"https://colab.research.google.com/assets/colab-badge.svg\" alt=\"Open In Colab\"/></a>"
      ]
    },
    {
      "cell_type": "code",
      "execution_count": 21,
      "metadata": {
        "id": "9z6l8jplByIJ"
      },
      "outputs": [],
      "source": [
        "!pip install -Uq openai-agents"
      ]
    },
    {
      "cell_type": "code",
      "source": [
        "from agents import Agent, Runner, AsyncOpenAI, OpenAIChatCompletionsModel\n",
        "from agents.run import RunConfig\n",
        "import os\n",
        "from google.colab import userdata\n",
        "os.environ['gemini_api_key'] = userdata.get('gemini_api_key')"
      ],
      "metadata": {
        "id": "oyBV59cKfuFK"
      },
      "execution_count": 22,
      "outputs": []
    },
    {
      "cell_type": "code",
      "source": [
        "gemini_api_key = userdata.get(\"gemini_api_key\")\n",
        "\n",
        "\n",
        "# Check if the API key is present; if not, raise an error\n",
        "if not gemini_api_key:\n",
        "    raise ValueError(\"GEMINI_API_KEY is not set. Please ensure it is defined in your .env file.\")\n",
        "\n",
        "#Reference: https://ai.google.dev/gemini-api/docs/openai\n",
        "external_client = AsyncOpenAI(\n",
        "    api_key=gemini_api_key,\n",
        "    base_url=\"https://generativelanguage.googleapis.com/v1beta/openai/\",\n",
        ")\n",
        "\n",
        "model = OpenAIChatCompletionsModel(\n",
        "    model=\"gemini-2.0-flash\",\n",
        "    openai_client=external_client\n",
        ")\n",
        "\n",
        "config = RunConfig(\n",
        "    model=model,\n",
        "    model_provider=external_client,\n",
        "    tracing_disabled=True\n",
        ")"
      ],
      "metadata": {
        "id": "nvCdk8-YbrZz"
      },
      "execution_count": 28,
      "outputs": []
    },
    {
      "cell_type": "markdown",
      "source": [
        "## Handsoff Customise"
      ],
      "metadata": {
        "id": "td9sX6mqXuzP"
      }
    },
    {
      "cell_type": "code",
      "source": [
        "from agents import handoff, enable_verbose_stdout_logging, function_tool\n",
        "from agents.extensions import handoff_filters\n",
        "enable_verbose_stdout_logging()\n",
        "refund_agent = Agent(name=\"Refund agent\")\n",
        "\n",
        "@function_tool\n",
        "def weather_tool(city: str) -> str:\n",
        "  return f\"The weather in {city} is sunny\"\n",
        "\n",
        "General_agent = Agent(\n",
        "    name=\"Triage agent\",\n",
        "    tools=[weather_tool],\n",
        "    handoffs=[handoff(agent = refund_agent,\n",
        "                      tool_name_override=\"refund_order\",\n",
        "                      tool_description_override=\"for_refund_process\",\n",
        "                      is_enabled=True,\n",
        "                      input_filter=handoff_filters.remove_all_tools)]\n",
        "    )\n",
        "async def main():\n",
        "  result = await Runner.run(General_agent, \"\"\" what is the weather in karachi? also i want to refund my order - details: order id: 123123, amount: 200, reason: i want to refund my order\"\"\", run_config=config)\n",
        "  print(result.final_output)\n",
        "  print(\"Last agent: \", result.last_agent.name)\n",
        "await main()"
      ],
      "metadata": {
        "colab": {
          "base_uri": "https://localhost:8080/"
        },
        "id": "CexeqlXvf689",
        "outputId": "ac8d0911-07de-48c1-b5d8-f30f879b6104"
      },
      "execution_count": 23,
      "outputs": [
        {
          "output_type": "stream",
          "name": "stdout",
          "text": [
            "Tracing is disabled. Not creating trace Agent workflow\n",
            "Tracing is disabled. Not creating trace Agent workflow\n",
            "Tracing is disabled. Not creating trace Agent workflow\n"
          ]
        },
        {
          "output_type": "stream",
          "name": "stderr",
          "text": [
            "DEBUG:openai.agents:Tracing is disabled. Not creating trace Agent workflow\n"
          ]
        },
        {
          "output_type": "stream",
          "name": "stdout",
          "text": [
            "Setting current trace: no-op\n",
            "Setting current trace: no-op\n",
            "Setting current trace: no-op\n"
          ]
        },
        {
          "output_type": "stream",
          "name": "stderr",
          "text": [
            "DEBUG:openai.agents:Setting current trace: no-op\n"
          ]
        },
        {
          "output_type": "stream",
          "name": "stdout",
          "text": [
            "Parent None or <agents.tracing.traces.NoOpTrace object at 0x7867915d5150> is no-op, returning NoOpSpan\n",
            "Parent None or <agents.tracing.traces.NoOpTrace object at 0x7867915d5150> is no-op, returning NoOpSpan\n",
            "Parent None or <agents.tracing.traces.NoOpTrace object at 0x7867915d5150> is no-op, returning NoOpSpan\n"
          ]
        },
        {
          "output_type": "stream",
          "name": "stderr",
          "text": [
            "DEBUG:openai.agents:Parent None or <agents.tracing.traces.NoOpTrace object at 0x7867915d5150> is no-op, returning NoOpSpan\n"
          ]
        },
        {
          "output_type": "stream",
          "name": "stdout",
          "text": [
            "Running agent Triage agent (turn 1)\n",
            "Running agent Triage agent (turn 1)\n",
            "Running agent Triage agent (turn 1)\n"
          ]
        },
        {
          "output_type": "stream",
          "name": "stderr",
          "text": [
            "DEBUG:openai.agents:Running agent Triage agent (turn 1)\n"
          ]
        },
        {
          "output_type": "stream",
          "name": "stdout",
          "text": [
            "Tracing is disabled. Not creating span <agents.tracing.span_data.GenerationSpanData object at 0x78677e762c90>\n",
            "Tracing is disabled. Not creating span <agents.tracing.span_data.GenerationSpanData object at 0x78677e762c90>\n",
            "Tracing is disabled. Not creating span <agents.tracing.span_data.GenerationSpanData object at 0x78677e762c90>\n"
          ]
        },
        {
          "output_type": "stream",
          "name": "stderr",
          "text": [
            "DEBUG:openai.agents:Tracing is disabled. Not creating span <agents.tracing.span_data.GenerationSpanData object at 0x78677e762c90>\n"
          ]
        },
        {
          "output_type": "stream",
          "name": "stdout",
          "text": [
            "[\n",
            "  {\n",
            "    \"role\": \"user\",\n",
            "    \"content\": \" what is the weather in karachi? also i want to refund my order - details: order id: 123123, amount: 200, reason: i want to refund my order\"\n",
            "  }\n",
            "]\n",
            "Tools:\n",
            "[\n",
            "  {\n",
            "    \"type\": \"function\",\n",
            "    \"function\": {\n",
            "      \"name\": \"weather_tool\",\n",
            "      \"description\": \"\",\n",
            "      \"parameters\": {\n",
            "        \"properties\": {\n",
            "          \"city\": {\n",
            "            \"title\": \"City\",\n",
            "            \"type\": \"string\"\n",
            "          }\n",
            "        },\n",
            "        \"required\": [\n",
            "          \"city\"\n",
            "        ],\n",
            "        \"title\": \"weather_tool_args\",\n",
            "        \"type\": \"object\",\n",
            "        \"additionalProperties\": false\n",
            "      }\n",
            "    }\n",
            "  },\n",
            "  {\n",
            "    \"type\": \"function\",\n",
            "    \"function\": {\n",
            "      \"name\": \"refund_order\",\n",
            "      \"description\": \"for_refund_process\",\n",
            "      \"parameters\": {\n",
            "        \"additionalProperties\": false,\n",
            "        \"type\": \"object\",\n",
            "        \"properties\": {},\n",
            "        \"required\": []\n",
            "      }\n",
            "    }\n",
            "  }\n",
            "]\n",
            "Stream: False\n",
            "Tool choice: NOT_GIVEN\n",
            "Response format: NOT_GIVEN\n",
            "\n",
            "[\n",
            "  {\n",
            "    \"role\": \"user\",\n",
            "    \"content\": \" what is the weather in karachi? also i want to refund my order - details: order id: 123123, amount: 200, reason: i want to refund my order\"\n",
            "  }\n",
            "]\n",
            "Tools:\n",
            "[\n",
            "  {\n",
            "    \"type\": \"function\",\n",
            "    \"function\": {\n",
            "      \"name\": \"weather_tool\",\n",
            "      \"description\": \"\",\n",
            "      \"parameters\": {\n",
            "        \"properties\": {\n",
            "          \"city\": {\n",
            "            \"title\": \"City\",\n",
            "            \"type\": \"string\"\n",
            "          }\n",
            "        },\n",
            "        \"required\": [\n",
            "          \"city\"\n",
            "        ],\n",
            "        \"title\": \"weather_tool_args\",\n",
            "        \"type\": \"object\",\n",
            "        \"additionalProperties\": false\n",
            "      }\n",
            "    }\n",
            "  },\n",
            "  {\n",
            "    \"type\": \"function\",\n",
            "    \"function\": {\n",
            "      \"name\": \"refund_order\",\n",
            "      \"description\": \"for_refund_process\",\n",
            "      \"parameters\": {\n",
            "        \"additionalProperties\": false,\n",
            "        \"type\": \"object\",\n",
            "        \"properties\": {},\n",
            "        \"required\": []\n",
            "      }\n",
            "    }\n",
            "  }\n",
            "]\n",
            "Stream: False\n",
            "Tool choice: NOT_GIVEN\n",
            "Response format: NOT_GIVEN\n",
            "\n",
            "[\n",
            "  {\n",
            "    \"role\": \"user\",\n",
            "    \"content\": \" what is the weather in karachi? also i want to refund my order - details: order id: 123123, amount: 200, reason: i want to refund my order\"\n",
            "  }\n",
            "]\n",
            "Tools:\n",
            "[\n",
            "  {\n",
            "    \"type\": \"function\",\n",
            "    \"function\": {\n",
            "      \"name\": \"weather_tool\",\n",
            "      \"description\": \"\",\n",
            "      \"parameters\": {\n",
            "        \"properties\": {\n",
            "          \"city\": {\n",
            "            \"title\": \"City\",\n",
            "            \"type\": \"string\"\n",
            "          }\n",
            "        },\n",
            "        \"required\": [\n",
            "          \"city\"\n",
            "        ],\n",
            "        \"title\": \"weather_tool_args\",\n",
            "        \"type\": \"object\",\n",
            "        \"additionalProperties\": false\n",
            "      }\n",
            "    }\n",
            "  },\n",
            "  {\n",
            "    \"type\": \"function\",\n",
            "    \"function\": {\n",
            "      \"name\": \"refund_order\",\n",
            "      \"description\": \"for_refund_process\",\n",
            "      \"parameters\": {\n",
            "        \"additionalProperties\": false,\n",
            "        \"type\": \"object\",\n",
            "        \"properties\": {},\n",
            "        \"required\": []\n",
            "      }\n",
            "    }\n",
            "  }\n",
            "]\n",
            "Stream: False\n",
            "Tool choice: NOT_GIVEN\n",
            "Response format: NOT_GIVEN\n",
            "\n"
          ]
        },
        {
          "output_type": "stream",
          "name": "stderr",
          "text": [
            "DEBUG:openai.agents:[\n",
            "  {\n",
            "    \"role\": \"user\",\n",
            "    \"content\": \" what is the weather in karachi? also i want to refund my order - details: order id: 123123, amount: 200, reason: i want to refund my order\"\n",
            "  }\n",
            "]\n",
            "Tools:\n",
            "[\n",
            "  {\n",
            "    \"type\": \"function\",\n",
            "    \"function\": {\n",
            "      \"name\": \"weather_tool\",\n",
            "      \"description\": \"\",\n",
            "      \"parameters\": {\n",
            "        \"properties\": {\n",
            "          \"city\": {\n",
            "            \"title\": \"City\",\n",
            "            \"type\": \"string\"\n",
            "          }\n",
            "        },\n",
            "        \"required\": [\n",
            "          \"city\"\n",
            "        ],\n",
            "        \"title\": \"weather_tool_args\",\n",
            "        \"type\": \"object\",\n",
            "        \"additionalProperties\": false\n",
            "      }\n",
            "    }\n",
            "  },\n",
            "  {\n",
            "    \"type\": \"function\",\n",
            "    \"function\": {\n",
            "      \"name\": \"refund_order\",\n",
            "      \"description\": \"for_refund_process\",\n",
            "      \"parameters\": {\n",
            "        \"additionalProperties\": false,\n",
            "        \"type\": \"object\",\n",
            "        \"properties\": {},\n",
            "        \"required\": []\n",
            "      }\n",
            "    }\n",
            "  }\n",
            "]\n",
            "Stream: False\n",
            "Tool choice: NOT_GIVEN\n",
            "Response format: NOT_GIVEN\n",
            "\n"
          ]
        },
        {
          "output_type": "stream",
          "name": "stdout",
          "text": [
            "LLM resp:\n",
            "{\n",
            "  \"content\": null,\n",
            "  \"refusal\": null,\n",
            "  \"role\": \"assistant\",\n",
            "  \"annotations\": null,\n",
            "  \"audio\": null,\n",
            "  \"function_call\": null,\n",
            "  \"tool_calls\": [\n",
            "    {\n",
            "      \"id\": \"\",\n",
            "      \"function\": {\n",
            "        \"arguments\": \"{\\\"city\\\":\\\"karachi\\\"}\",\n",
            "        \"name\": \"weather_tool\"\n",
            "      },\n",
            "      \"type\": \"function\"\n",
            "    },\n",
            "    {\n",
            "      \"id\": \"\",\n",
            "      \"function\": {\n",
            "        \"arguments\": \"{}\",\n",
            "        \"name\": \"refund_order\"\n",
            "      },\n",
            "      \"type\": \"function\"\n",
            "    }\n",
            "  ]\n",
            "}\n",
            "\n",
            "LLM resp:\n",
            "{\n",
            "  \"content\": null,\n",
            "  \"refusal\": null,\n",
            "  \"role\": \"assistant\",\n",
            "  \"annotations\": null,\n",
            "  \"audio\": null,\n",
            "  \"function_call\": null,\n",
            "  \"tool_calls\": [\n",
            "    {\n",
            "      \"id\": \"\",\n",
            "      \"function\": {\n",
            "        \"arguments\": \"{\\\"city\\\":\\\"karachi\\\"}\",\n",
            "        \"name\": \"weather_tool\"\n",
            "      },\n",
            "      \"type\": \"function\"\n",
            "    },\n",
            "    {\n",
            "      \"id\": \"\",\n",
            "      \"function\": {\n",
            "        \"arguments\": \"{}\",\n",
            "        \"name\": \"refund_order\"\n",
            "      },\n",
            "      \"type\": \"function\"\n",
            "    }\n",
            "  ]\n",
            "}\n",
            "\n",
            "LLM resp:\n",
            "{\n",
            "  \"content\": null,\n",
            "  \"refusal\": null,\n",
            "  \"role\": \"assistant\",\n",
            "  \"annotations\": null,\n",
            "  \"audio\": null,\n",
            "  \"function_call\": null,\n",
            "  \"tool_calls\": [\n",
            "    {\n",
            "      \"id\": \"\",\n",
            "      \"function\": {\n",
            "        \"arguments\": \"{\\\"city\\\":\\\"karachi\\\"}\",\n",
            "        \"name\": \"weather_tool\"\n",
            "      },\n",
            "      \"type\": \"function\"\n",
            "    },\n",
            "    {\n",
            "      \"id\": \"\",\n",
            "      \"function\": {\n",
            "        \"arguments\": \"{}\",\n",
            "        \"name\": \"refund_order\"\n",
            "      },\n",
            "      \"type\": \"function\"\n",
            "    }\n",
            "  ]\n",
            "}\n",
            "\n"
          ]
        },
        {
          "output_type": "stream",
          "name": "stderr",
          "text": [
            "DEBUG:openai.agents:LLM resp:\n",
            "{\n",
            "  \"content\": null,\n",
            "  \"refusal\": null,\n",
            "  \"role\": \"assistant\",\n",
            "  \"annotations\": null,\n",
            "  \"audio\": null,\n",
            "  \"function_call\": null,\n",
            "  \"tool_calls\": [\n",
            "    {\n",
            "      \"id\": \"\",\n",
            "      \"function\": {\n",
            "        \"arguments\": \"{\\\"city\\\":\\\"karachi\\\"}\",\n",
            "        \"name\": \"weather_tool\"\n",
            "      },\n",
            "      \"type\": \"function\"\n",
            "    },\n",
            "    {\n",
            "      \"id\": \"\",\n",
            "      \"function\": {\n",
            "        \"arguments\": \"{}\",\n",
            "        \"name\": \"refund_order\"\n",
            "      },\n",
            "      \"type\": \"function\"\n",
            "    }\n",
            "  ]\n",
            "}\n",
            "\n"
          ]
        },
        {
          "output_type": "stream",
          "name": "stdout",
          "text": [
            "Parent <agents.tracing.spans.NoOpSpan object at 0x78677e46e6c0> or <agents.tracing.traces.NoOpTrace object at 0x7867915d5150> is no-op, returning NoOpSpan\n",
            "Parent <agents.tracing.spans.NoOpSpan object at 0x78677e46e6c0> or <agents.tracing.traces.NoOpTrace object at 0x7867915d5150> is no-op, returning NoOpSpan\n",
            "Parent <agents.tracing.spans.NoOpSpan object at 0x78677e46e6c0> or <agents.tracing.traces.NoOpTrace object at 0x7867915d5150> is no-op, returning NoOpSpan\n"
          ]
        },
        {
          "output_type": "stream",
          "name": "stderr",
          "text": [
            "DEBUG:openai.agents:Parent <agents.tracing.spans.NoOpSpan object at 0x78677e46e6c0> or <agents.tracing.traces.NoOpTrace object at 0x7867915d5150> is no-op, returning NoOpSpan\n"
          ]
        },
        {
          "output_type": "stream",
          "name": "stdout",
          "text": [
            "Invoking tool weather_tool with input {\"city\":\"karachi\"}\n",
            "Invoking tool weather_tool with input {\"city\":\"karachi\"}\n",
            "Invoking tool weather_tool with input {\"city\":\"karachi\"}\n"
          ]
        },
        {
          "output_type": "stream",
          "name": "stderr",
          "text": [
            "DEBUG:openai.agents:Invoking tool weather_tool with input {\"city\":\"karachi\"}\n"
          ]
        },
        {
          "output_type": "stream",
          "name": "stdout",
          "text": [
            "Tool call args: ['karachi'], kwargs: {}\n",
            "Tool call args: ['karachi'], kwargs: {}\n",
            "Tool call args: ['karachi'], kwargs: {}\n"
          ]
        },
        {
          "output_type": "stream",
          "name": "stderr",
          "text": [
            "DEBUG:openai.agents:Tool call args: ['karachi'], kwargs: {}\n"
          ]
        },
        {
          "output_type": "stream",
          "name": "stdout",
          "text": [
            "Tool weather_tool returned The weather in karachi is sunny\n",
            "Tool weather_tool returned The weather in karachi is sunny\n",
            "Tool weather_tool returned The weather in karachi is sunny\n"
          ]
        },
        {
          "output_type": "stream",
          "name": "stderr",
          "text": [
            "DEBUG:openai.agents:Tool weather_tool returned The weather in karachi is sunny\n"
          ]
        },
        {
          "output_type": "stream",
          "name": "stdout",
          "text": [
            "Parent <agents.tracing.spans.NoOpSpan object at 0x78677e46e6c0> or <agents.tracing.traces.NoOpTrace object at 0x7867915d5150> is no-op, returning NoOpSpan\n",
            "Parent <agents.tracing.spans.NoOpSpan object at 0x78677e46e6c0> or <agents.tracing.traces.NoOpTrace object at 0x7867915d5150> is no-op, returning NoOpSpan\n",
            "Parent <agents.tracing.spans.NoOpSpan object at 0x78677e46e6c0> or <agents.tracing.traces.NoOpTrace object at 0x7867915d5150> is no-op, returning NoOpSpan\n"
          ]
        },
        {
          "output_type": "stream",
          "name": "stderr",
          "text": [
            "DEBUG:openai.agents:Parent <agents.tracing.spans.NoOpSpan object at 0x78677e46e6c0> or <agents.tracing.traces.NoOpTrace object at 0x7867915d5150> is no-op, returning NoOpSpan\n"
          ]
        },
        {
          "output_type": "stream",
          "name": "stdout",
          "text": [
            "Filtering inputs for handoff\n",
            "Filtering inputs for handoff\n",
            "Filtering inputs for handoff\n"
          ]
        },
        {
          "output_type": "stream",
          "name": "stderr",
          "text": [
            "DEBUG:openai.agents:Filtering inputs for handoff\n"
          ]
        },
        {
          "output_type": "stream",
          "name": "stdout",
          "text": [
            "Parent None or <agents.tracing.traces.NoOpTrace object at 0x7867915d5150> is no-op, returning NoOpSpan\n",
            "Parent None or <agents.tracing.traces.NoOpTrace object at 0x7867915d5150> is no-op, returning NoOpSpan\n",
            "Parent None or <agents.tracing.traces.NoOpTrace object at 0x7867915d5150> is no-op, returning NoOpSpan\n"
          ]
        },
        {
          "output_type": "stream",
          "name": "stderr",
          "text": [
            "DEBUG:openai.agents:Parent None or <agents.tracing.traces.NoOpTrace object at 0x7867915d5150> is no-op, returning NoOpSpan\n"
          ]
        },
        {
          "output_type": "stream",
          "name": "stdout",
          "text": [
            "Running agent Refund agent (turn 2)\n",
            "Running agent Refund agent (turn 2)\n",
            "Running agent Refund agent (turn 2)\n"
          ]
        },
        {
          "output_type": "stream",
          "name": "stderr",
          "text": [
            "DEBUG:openai.agents:Running agent Refund agent (turn 2)\n"
          ]
        },
        {
          "output_type": "stream",
          "name": "stdout",
          "text": [
            "Tracing is disabled. Not creating span <agents.tracing.span_data.GenerationSpanData object at 0x78677e7639b0>\n",
            "Tracing is disabled. Not creating span <agents.tracing.span_data.GenerationSpanData object at 0x78677e7639b0>\n",
            "Tracing is disabled. Not creating span <agents.tracing.span_data.GenerationSpanData object at 0x78677e7639b0>\n"
          ]
        },
        {
          "output_type": "stream",
          "name": "stderr",
          "text": [
            "DEBUG:openai.agents:Tracing is disabled. Not creating span <agents.tracing.span_data.GenerationSpanData object at 0x78677e7639b0>\n"
          ]
        },
        {
          "output_type": "stream",
          "name": "stdout",
          "text": [
            "[\n",
            "  {\n",
            "    \"role\": \"user\",\n",
            "    \"content\": \" what is the weather in karachi? also i want to refund my order - details: order id: 123123, amount: 200, reason: i want to refund my order\"\n",
            "  }\n",
            "]\n",
            "Tools:\n",
            "[]\n",
            "Stream: False\n",
            "Tool choice: NOT_GIVEN\n",
            "Response format: NOT_GIVEN\n",
            "\n",
            "[\n",
            "  {\n",
            "    \"role\": \"user\",\n",
            "    \"content\": \" what is the weather in karachi? also i want to refund my order - details: order id: 123123, amount: 200, reason: i want to refund my order\"\n",
            "  }\n",
            "]\n",
            "Tools:\n",
            "[]\n",
            "Stream: False\n",
            "Tool choice: NOT_GIVEN\n",
            "Response format: NOT_GIVEN\n",
            "\n",
            "[\n",
            "  {\n",
            "    \"role\": \"user\",\n",
            "    \"content\": \" what is the weather in karachi? also i want to refund my order - details: order id: 123123, amount: 200, reason: i want to refund my order\"\n",
            "  }\n",
            "]\n",
            "Tools:\n",
            "[]\n",
            "Stream: False\n",
            "Tool choice: NOT_GIVEN\n",
            "Response format: NOT_GIVEN\n",
            "\n"
          ]
        },
        {
          "output_type": "stream",
          "name": "stderr",
          "text": [
            "DEBUG:openai.agents:[\n",
            "  {\n",
            "    \"role\": \"user\",\n",
            "    \"content\": \" what is the weather in karachi? also i want to refund my order - details: order id: 123123, amount: 200, reason: i want to refund my order\"\n",
            "  }\n",
            "]\n",
            "Tools:\n",
            "[]\n",
            "Stream: False\n",
            "Tool choice: NOT_GIVEN\n",
            "Response format: NOT_GIVEN\n",
            "\n"
          ]
        },
        {
          "output_type": "stream",
          "name": "stdout",
          "text": [
            "LLM resp:\n",
            "{\n",
            "  \"content\": \"Okay, I can help you with both requests.\\n\\n**Regarding the weather in Karachi:**\\n\\nUnfortunately, I cannot give you a real-time weather update. Weather conditions change very rapidly. To get the most accurate and up-to-date weather information for Karachi, I recommend checking these resources:\\n\\n*   **Google Weather:** Simply search \\\"weather in Karachi\\\" on Google.\\n*   **Reliable Weather Apps:** Use a weather app on your smartphone (e.g., AccuWeather, The Weather Channel).\\n*   **Local News Websites:** Check the websites of reputable news sources in Karachi that provide weather forecasts.\\n\\n**Regarding your refund request:**\\n\\nI am unable to directly process refunds or access order information. I am a large language model and do not have the functionality to interact with order systems or payment gateways.\\n\\n**To request a refund for order ID 123123, amount 200, with the reason \\\"I want to refund my order,\\\" you will need to contact the seller or platform from which you made the purchase. Here's how you can usually do that:**\\n\\n1.  **Check Your Order Confirmation Email:** Look for contact information (email address, phone number, website) in the email you received when you placed the order.\\n2.  **Log into Your Account (if applicable):** If you ordered through an online platform (like Amazon, eBay, a specific store's website, etc.), log into your account and find the order details. There should be a way to request a refund or contact customer support.\\n3.  **Contact the Company Directly:** If you can't find the information above, try searching online for the company's customer support contact information.\\n\\nWhen you contact them, be sure to provide the following information:\\n\\n*   **Order ID:** 123123\\n*   **Amount:** 200\\n*   **Reason:** You want to refund your order.\\n\\nThe seller or platform will then be able to guide you through their refund process.\\n\",\n",
            "  \"refusal\": null,\n",
            "  \"role\": \"assistant\",\n",
            "  \"annotations\": null,\n",
            "  \"audio\": null,\n",
            "  \"function_call\": null,\n",
            "  \"tool_calls\": null\n",
            "}\n",
            "\n",
            "LLM resp:\n",
            "{\n",
            "  \"content\": \"Okay, I can help you with both requests.\\n\\n**Regarding the weather in Karachi:**\\n\\nUnfortunately, I cannot give you a real-time weather update. Weather conditions change very rapidly. To get the most accurate and up-to-date weather information for Karachi, I recommend checking these resources:\\n\\n*   **Google Weather:** Simply search \\\"weather in Karachi\\\" on Google.\\n*   **Reliable Weather Apps:** Use a weather app on your smartphone (e.g., AccuWeather, The Weather Channel).\\n*   **Local News Websites:** Check the websites of reputable news sources in Karachi that provide weather forecasts.\\n\\n**Regarding your refund request:**\\n\\nI am unable to directly process refunds or access order information. I am a large language model and do not have the functionality to interact with order systems or payment gateways.\\n\\n**To request a refund for order ID 123123, amount 200, with the reason \\\"I want to refund my order,\\\" you will need to contact the seller or platform from which you made the purchase. Here's how you can usually do that:**\\n\\n1.  **Check Your Order Confirmation Email:** Look for contact information (email address, phone number, website) in the email you received when you placed the order.\\n2.  **Log into Your Account (if applicable):** If you ordered through an online platform (like Amazon, eBay, a specific store's website, etc.), log into your account and find the order details. There should be a way to request a refund or contact customer support.\\n3.  **Contact the Company Directly:** If you can't find the information above, try searching online for the company's customer support contact information.\\n\\nWhen you contact them, be sure to provide the following information:\\n\\n*   **Order ID:** 123123\\n*   **Amount:** 200\\n*   **Reason:** You want to refund your order.\\n\\nThe seller or platform will then be able to guide you through their refund process.\\n\",\n",
            "  \"refusal\": null,\n",
            "  \"role\": \"assistant\",\n",
            "  \"annotations\": null,\n",
            "  \"audio\": null,\n",
            "  \"function_call\": null,\n",
            "  \"tool_calls\": null\n",
            "}\n",
            "\n",
            "LLM resp:\n",
            "{\n",
            "  \"content\": \"Okay, I can help you with both requests.\\n\\n**Regarding the weather in Karachi:**\\n\\nUnfortunately, I cannot give you a real-time weather update. Weather conditions change very rapidly. To get the most accurate and up-to-date weather information for Karachi, I recommend checking these resources:\\n\\n*   **Google Weather:** Simply search \\\"weather in Karachi\\\" on Google.\\n*   **Reliable Weather Apps:** Use a weather app on your smartphone (e.g., AccuWeather, The Weather Channel).\\n*   **Local News Websites:** Check the websites of reputable news sources in Karachi that provide weather forecasts.\\n\\n**Regarding your refund request:**\\n\\nI am unable to directly process refunds or access order information. I am a large language model and do not have the functionality to interact with order systems or payment gateways.\\n\\n**To request a refund for order ID 123123, amount 200, with the reason \\\"I want to refund my order,\\\" you will need to contact the seller or platform from which you made the purchase. Here's how you can usually do that:**\\n\\n1.  **Check Your Order Confirmation Email:** Look for contact information (email address, phone number, website) in the email you received when you placed the order.\\n2.  **Log into Your Account (if applicable):** If you ordered through an online platform (like Amazon, eBay, a specific store's website, etc.), log into your account and find the order details. There should be a way to request a refund or contact customer support.\\n3.  **Contact the Company Directly:** If you can't find the information above, try searching online for the company's customer support contact information.\\n\\nWhen you contact them, be sure to provide the following information:\\n\\n*   **Order ID:** 123123\\n*   **Amount:** 200\\n*   **Reason:** You want to refund your order.\\n\\nThe seller or platform will then be able to guide you through their refund process.\\n\",\n",
            "  \"refusal\": null,\n",
            "  \"role\": \"assistant\",\n",
            "  \"annotations\": null,\n",
            "  \"audio\": null,\n",
            "  \"function_call\": null,\n",
            "  \"tool_calls\": null\n",
            "}\n",
            "\n"
          ]
        },
        {
          "output_type": "stream",
          "name": "stderr",
          "text": [
            "DEBUG:openai.agents:LLM resp:\n",
            "{\n",
            "  \"content\": \"Okay, I can help you with both requests.\\n\\n**Regarding the weather in Karachi:**\\n\\nUnfortunately, I cannot give you a real-time weather update. Weather conditions change very rapidly. To get the most accurate and up-to-date weather information for Karachi, I recommend checking these resources:\\n\\n*   **Google Weather:** Simply search \\\"weather in Karachi\\\" on Google.\\n*   **Reliable Weather Apps:** Use a weather app on your smartphone (e.g., AccuWeather, The Weather Channel).\\n*   **Local News Websites:** Check the websites of reputable news sources in Karachi that provide weather forecasts.\\n\\n**Regarding your refund request:**\\n\\nI am unable to directly process refunds or access order information. I am a large language model and do not have the functionality to interact with order systems or payment gateways.\\n\\n**To request a refund for order ID 123123, amount 200, with the reason \\\"I want to refund my order,\\\" you will need to contact the seller or platform from which you made the purchase. Here's how you can usually do that:**\\n\\n1.  **Check Your Order Confirmation Email:** Look for contact information (email address, phone number, website) in the email you received when you placed the order.\\n2.  **Log into Your Account (if applicable):** If you ordered through an online platform (like Amazon, eBay, a specific store's website, etc.), log into your account and find the order details. There should be a way to request a refund or contact customer support.\\n3.  **Contact the Company Directly:** If you can't find the information above, try searching online for the company's customer support contact information.\\n\\nWhen you contact them, be sure to provide the following information:\\n\\n*   **Order ID:** 123123\\n*   **Amount:** 200\\n*   **Reason:** You want to refund your order.\\n\\nThe seller or platform will then be able to guide you through their refund process.\\n\",\n",
            "  \"refusal\": null,\n",
            "  \"role\": \"assistant\",\n",
            "  \"annotations\": null,\n",
            "  \"audio\": null,\n",
            "  \"function_call\": null,\n",
            "  \"tool_calls\": null\n",
            "}\n",
            "\n"
          ]
        },
        {
          "output_type": "stream",
          "name": "stdout",
          "text": [
            "Resetting current trace\n",
            "Resetting current trace\n",
            "Resetting current trace\n"
          ]
        },
        {
          "output_type": "stream",
          "name": "stderr",
          "text": [
            "DEBUG:openai.agents:Resetting current trace\n"
          ]
        },
        {
          "output_type": "stream",
          "name": "stdout",
          "text": [
            "Okay, I can help you with both requests.\n",
            "\n",
            "**Regarding the weather in Karachi:**\n",
            "\n",
            "Unfortunately, I cannot give you a real-time weather update. Weather conditions change very rapidly. To get the most accurate and up-to-date weather information for Karachi, I recommend checking these resources:\n",
            "\n",
            "*   **Google Weather:** Simply search \"weather in Karachi\" on Google.\n",
            "*   **Reliable Weather Apps:** Use a weather app on your smartphone (e.g., AccuWeather, The Weather Channel).\n",
            "*   **Local News Websites:** Check the websites of reputable news sources in Karachi that provide weather forecasts.\n",
            "\n",
            "**Regarding your refund request:**\n",
            "\n",
            "I am unable to directly process refunds or access order information. I am a large language model and do not have the functionality to interact with order systems or payment gateways.\n",
            "\n",
            "**To request a refund for order ID 123123, amount 200, with the reason \"I want to refund my order,\" you will need to contact the seller or platform from which you made the purchase. Here's how you can usually do that:**\n",
            "\n",
            "1.  **Check Your Order Confirmation Email:** Look for contact information (email address, phone number, website) in the email you received when you placed the order.\n",
            "2.  **Log into Your Account (if applicable):** If you ordered through an online platform (like Amazon, eBay, a specific store's website, etc.), log into your account and find the order details. There should be a way to request a refund or contact customer support.\n",
            "3.  **Contact the Company Directly:** If you can't find the information above, try searching online for the company's customer support contact information.\n",
            "\n",
            "When you contact them, be sure to provide the following information:\n",
            "\n",
            "*   **Order ID:** 123123\n",
            "*   **Amount:** 200\n",
            "*   **Reason:** You want to refund your order.\n",
            "\n",
            "The seller or platform will then be able to guide you through their refund process.\n",
            "\n",
            "Last agent:  Refund agent\n"
          ]
        }
      ]
    },
    {
      "cell_type": "markdown",
      "source": [
        "## Dynamic context"
      ],
      "metadata": {
        "id": "FATa3vo6XbEC"
      }
    },
    {
      "cell_type": "code",
      "source": [
        "from typing import Any\n",
        "from agents import RunContextWrapper\n",
        "from pydantic import BaseModel\n",
        "\n",
        "class CurrentUser(BaseModel):\n",
        "  is_logged_in: bool\n",
        "\n",
        "async def can_customer_refund(local_context: RunContextWrapper[CurrentUser], agent:Agent[CurrentUser]) -> bool:\n",
        "  print(\"local_context:\", local_context)\n",
        "  if local_context.context and local_context.context.is_logged_in:\n",
        "    return True\n",
        "  return False\n",
        "\n",
        "\n",
        "@function_tool\n",
        "def weather_tool(city: str) -> str:\n",
        "  return f\"The weather in {city} is sunny\"\n",
        "refund_agent = Agent(name=\"Refund agent\")\n",
        "\n",
        "General_agent = Agent(\n",
        "    name=\"General_agent\",\n",
        "    tools=[weather_tool],\n",
        "    handoffs=[handoff(agent = refund_agent,\n",
        "                      tool_name_override=\"refund_order\",\n",
        "                      tool_description_override=\"for_refund_process\",\n",
        "                      is_enabled=can_customer_refund,\n",
        ")]\n",
        "    )\n",
        "async def main():\n",
        "  current_user = CurrentUser(is_logged_in=True)\n",
        "  result = await Runner.run(General_agent, \"\"\" what is the weather in karachi? also i want to refund my order - details: order id: 123123, amount: 200, reason: i want to refund my order\"\"\", run_config=config)\n",
        "  context = current_user\n",
        "  print(result.final_output)\n",
        "  print(\"Last agent: \", result.last_agent.name)\n",
        "\n",
        "await main()"
      ],
      "metadata": {
        "colab": {
          "base_uri": "https://localhost:8080/"
        },
        "id": "QIQWsTv-_8nY",
        "outputId": "4529192c-3057-4c2e-b8a4-fe5bfd085a5f"
      },
      "execution_count": 24,
      "outputs": [
        {
          "output_type": "stream",
          "name": "stdout",
          "text": [
            "Tracing is disabled. Not creating trace Agent workflow\n",
            "Tracing is disabled. Not creating trace Agent workflow\n",
            "Tracing is disabled. Not creating trace Agent workflow\n"
          ]
        },
        {
          "output_type": "stream",
          "name": "stderr",
          "text": [
            "DEBUG:openai.agents:Tracing is disabled. Not creating trace Agent workflow\n"
          ]
        },
        {
          "output_type": "stream",
          "name": "stdout",
          "text": [
            "Setting current trace: no-op\n",
            "Setting current trace: no-op\n",
            "Setting current trace: no-op\n"
          ]
        },
        {
          "output_type": "stream",
          "name": "stderr",
          "text": [
            "DEBUG:openai.agents:Setting current trace: no-op\n"
          ]
        },
        {
          "output_type": "stream",
          "name": "stdout",
          "text": [
            "local_context: RunContextWrapper(context=None, usage=Usage(requests=0, input_tokens=0, input_tokens_details=InputTokensDetails(cached_tokens=0), output_tokens=0, output_tokens_details=OutputTokensDetails(reasoning_tokens=0), total_tokens=0))\n",
            "Parent None or <agents.tracing.traces.NoOpTrace object at 0x78677d870750> is no-op, returning NoOpSpan\n",
            "Parent None or <agents.tracing.traces.NoOpTrace object at 0x78677d870750> is no-op, returning NoOpSpan\n",
            "Parent None or <agents.tracing.traces.NoOpTrace object at 0x78677d870750> is no-op, returning NoOpSpan\n"
          ]
        },
        {
          "output_type": "stream",
          "name": "stderr",
          "text": [
            "DEBUG:openai.agents:Parent None or <agents.tracing.traces.NoOpTrace object at 0x78677d870750> is no-op, returning NoOpSpan\n"
          ]
        },
        {
          "output_type": "stream",
          "name": "stdout",
          "text": [
            "Running agent General_agent (turn 1)\n",
            "Running agent General_agent (turn 1)\n",
            "Running agent General_agent (turn 1)\n"
          ]
        },
        {
          "output_type": "stream",
          "name": "stderr",
          "text": [
            "DEBUG:openai.agents:Running agent General_agent (turn 1)\n"
          ]
        },
        {
          "output_type": "stream",
          "name": "stdout",
          "text": [
            "local_context: RunContextWrapper(context=None, usage=Usage(requests=0, input_tokens=0, input_tokens_details=InputTokensDetails(cached_tokens=0), output_tokens=0, output_tokens_details=OutputTokensDetails(reasoning_tokens=0), total_tokens=0))\n",
            "Tracing is disabled. Not creating span <agents.tracing.span_data.GenerationSpanData object at 0x78677e763350>\n",
            "Tracing is disabled. Not creating span <agents.tracing.span_data.GenerationSpanData object at 0x78677e763350>\n",
            "Tracing is disabled. Not creating span <agents.tracing.span_data.GenerationSpanData object at 0x78677e763350>\n"
          ]
        },
        {
          "output_type": "stream",
          "name": "stderr",
          "text": [
            "DEBUG:openai.agents:Tracing is disabled. Not creating span <agents.tracing.span_data.GenerationSpanData object at 0x78677e763350>\n"
          ]
        },
        {
          "output_type": "stream",
          "name": "stdout",
          "text": [
            "[\n",
            "  {\n",
            "    \"role\": \"user\",\n",
            "    \"content\": \" what is the weather in karachi? also i want to refund my order - details: order id: 123123, amount: 200, reason: i want to refund my order\"\n",
            "  }\n",
            "]\n",
            "Tools:\n",
            "[\n",
            "  {\n",
            "    \"type\": \"function\",\n",
            "    \"function\": {\n",
            "      \"name\": \"weather_tool\",\n",
            "      \"description\": \"\",\n",
            "      \"parameters\": {\n",
            "        \"properties\": {\n",
            "          \"city\": {\n",
            "            \"title\": \"City\",\n",
            "            \"type\": \"string\"\n",
            "          }\n",
            "        },\n",
            "        \"required\": [\n",
            "          \"city\"\n",
            "        ],\n",
            "        \"title\": \"weather_tool_args\",\n",
            "        \"type\": \"object\",\n",
            "        \"additionalProperties\": false\n",
            "      }\n",
            "    }\n",
            "  }\n",
            "]\n",
            "Stream: False\n",
            "Tool choice: NOT_GIVEN\n",
            "Response format: NOT_GIVEN\n",
            "\n",
            "[\n",
            "  {\n",
            "    \"role\": \"user\",\n",
            "    \"content\": \" what is the weather in karachi? also i want to refund my order - details: order id: 123123, amount: 200, reason: i want to refund my order\"\n",
            "  }\n",
            "]\n",
            "Tools:\n",
            "[\n",
            "  {\n",
            "    \"type\": \"function\",\n",
            "    \"function\": {\n",
            "      \"name\": \"weather_tool\",\n",
            "      \"description\": \"\",\n",
            "      \"parameters\": {\n",
            "        \"properties\": {\n",
            "          \"city\": {\n",
            "            \"title\": \"City\",\n",
            "            \"type\": \"string\"\n",
            "          }\n",
            "        },\n",
            "        \"required\": [\n",
            "          \"city\"\n",
            "        ],\n",
            "        \"title\": \"weather_tool_args\",\n",
            "        \"type\": \"object\",\n",
            "        \"additionalProperties\": false\n",
            "      }\n",
            "    }\n",
            "  }\n",
            "]\n",
            "Stream: False\n",
            "Tool choice: NOT_GIVEN\n",
            "Response format: NOT_GIVEN\n",
            "\n",
            "[\n",
            "  {\n",
            "    \"role\": \"user\",\n",
            "    \"content\": \" what is the weather in karachi? also i want to refund my order - details: order id: 123123, amount: 200, reason: i want to refund my order\"\n",
            "  }\n",
            "]\n",
            "Tools:\n",
            "[\n",
            "  {\n",
            "    \"type\": \"function\",\n",
            "    \"function\": {\n",
            "      \"name\": \"weather_tool\",\n",
            "      \"description\": \"\",\n",
            "      \"parameters\": {\n",
            "        \"properties\": {\n",
            "          \"city\": {\n",
            "            \"title\": \"City\",\n",
            "            \"type\": \"string\"\n",
            "          }\n",
            "        },\n",
            "        \"required\": [\n",
            "          \"city\"\n",
            "        ],\n",
            "        \"title\": \"weather_tool_args\",\n",
            "        \"type\": \"object\",\n",
            "        \"additionalProperties\": false\n",
            "      }\n",
            "    }\n",
            "  }\n",
            "]\n",
            "Stream: False\n",
            "Tool choice: NOT_GIVEN\n",
            "Response format: NOT_GIVEN\n",
            "\n"
          ]
        },
        {
          "output_type": "stream",
          "name": "stderr",
          "text": [
            "DEBUG:openai.agents:[\n",
            "  {\n",
            "    \"role\": \"user\",\n",
            "    \"content\": \" what is the weather in karachi? also i want to refund my order - details: order id: 123123, amount: 200, reason: i want to refund my order\"\n",
            "  }\n",
            "]\n",
            "Tools:\n",
            "[\n",
            "  {\n",
            "    \"type\": \"function\",\n",
            "    \"function\": {\n",
            "      \"name\": \"weather_tool\",\n",
            "      \"description\": \"\",\n",
            "      \"parameters\": {\n",
            "        \"properties\": {\n",
            "          \"city\": {\n",
            "            \"title\": \"City\",\n",
            "            \"type\": \"string\"\n",
            "          }\n",
            "        },\n",
            "        \"required\": [\n",
            "          \"city\"\n",
            "        ],\n",
            "        \"title\": \"weather_tool_args\",\n",
            "        \"type\": \"object\",\n",
            "        \"additionalProperties\": false\n",
            "      }\n",
            "    }\n",
            "  }\n",
            "]\n",
            "Stream: False\n",
            "Tool choice: NOT_GIVEN\n",
            "Response format: NOT_GIVEN\n",
            "\n"
          ]
        },
        {
          "output_type": "stream",
          "name": "stdout",
          "text": [
            "LLM resp:\n",
            "{\n",
            "  \"content\": \"I can tell you the weather in Karachi, but I can't help you with your refund. I don't have the functionality to process refunds.\\n\\n\",\n",
            "  \"refusal\": null,\n",
            "  \"role\": \"assistant\",\n",
            "  \"annotations\": null,\n",
            "  \"audio\": null,\n",
            "  \"function_call\": null,\n",
            "  \"tool_calls\": [\n",
            "    {\n",
            "      \"id\": \"\",\n",
            "      \"function\": {\n",
            "        \"arguments\": \"{\\\"city\\\":\\\"karachi\\\"}\",\n",
            "        \"name\": \"weather_tool\"\n",
            "      },\n",
            "      \"type\": \"function\"\n",
            "    }\n",
            "  ]\n",
            "}\n",
            "\n",
            "LLM resp:\n",
            "{\n",
            "  \"content\": \"I can tell you the weather in Karachi, but I can't help you with your refund. I don't have the functionality to process refunds.\\n\\n\",\n",
            "  \"refusal\": null,\n",
            "  \"role\": \"assistant\",\n",
            "  \"annotations\": null,\n",
            "  \"audio\": null,\n",
            "  \"function_call\": null,\n",
            "  \"tool_calls\": [\n",
            "    {\n",
            "      \"id\": \"\",\n",
            "      \"function\": {\n",
            "        \"arguments\": \"{\\\"city\\\":\\\"karachi\\\"}\",\n",
            "        \"name\": \"weather_tool\"\n",
            "      },\n",
            "      \"type\": \"function\"\n",
            "    }\n",
            "  ]\n",
            "}\n",
            "\n",
            "LLM resp:\n",
            "{\n",
            "  \"content\": \"I can tell you the weather in Karachi, but I can't help you with your refund. I don't have the functionality to process refunds.\\n\\n\",\n",
            "  \"refusal\": null,\n",
            "  \"role\": \"assistant\",\n",
            "  \"annotations\": null,\n",
            "  \"audio\": null,\n",
            "  \"function_call\": null,\n",
            "  \"tool_calls\": [\n",
            "    {\n",
            "      \"id\": \"\",\n",
            "      \"function\": {\n",
            "        \"arguments\": \"{\\\"city\\\":\\\"karachi\\\"}\",\n",
            "        \"name\": \"weather_tool\"\n",
            "      },\n",
            "      \"type\": \"function\"\n",
            "    }\n",
            "  ]\n",
            "}\n",
            "\n"
          ]
        },
        {
          "output_type": "stream",
          "name": "stderr",
          "text": [
            "DEBUG:openai.agents:LLM resp:\n",
            "{\n",
            "  \"content\": \"I can tell you the weather in Karachi, but I can't help you with your refund. I don't have the functionality to process refunds.\\n\\n\",\n",
            "  \"refusal\": null,\n",
            "  \"role\": \"assistant\",\n",
            "  \"annotations\": null,\n",
            "  \"audio\": null,\n",
            "  \"function_call\": null,\n",
            "  \"tool_calls\": [\n",
            "    {\n",
            "      \"id\": \"\",\n",
            "      \"function\": {\n",
            "        \"arguments\": \"{\\\"city\\\":\\\"karachi\\\"}\",\n",
            "        \"name\": \"weather_tool\"\n",
            "      },\n",
            "      \"type\": \"function\"\n",
            "    }\n",
            "  ]\n",
            "}\n",
            "\n"
          ]
        },
        {
          "output_type": "stream",
          "name": "stdout",
          "text": [
            "Parent <agents.tracing.spans.NoOpSpan object at 0x78677ec66670> or <agents.tracing.traces.NoOpTrace object at 0x78677d870750> is no-op, returning NoOpSpan\n",
            "Parent <agents.tracing.spans.NoOpSpan object at 0x78677ec66670> or <agents.tracing.traces.NoOpTrace object at 0x78677d870750> is no-op, returning NoOpSpan\n",
            "Parent <agents.tracing.spans.NoOpSpan object at 0x78677ec66670> or <agents.tracing.traces.NoOpTrace object at 0x78677d870750> is no-op, returning NoOpSpan\n"
          ]
        },
        {
          "output_type": "stream",
          "name": "stderr",
          "text": [
            "DEBUG:openai.agents:Parent <agents.tracing.spans.NoOpSpan object at 0x78677ec66670> or <agents.tracing.traces.NoOpTrace object at 0x78677d870750> is no-op, returning NoOpSpan\n"
          ]
        },
        {
          "output_type": "stream",
          "name": "stdout",
          "text": [
            "Invoking tool weather_tool with input {\"city\":\"karachi\"}\n",
            "Invoking tool weather_tool with input {\"city\":\"karachi\"}\n",
            "Invoking tool weather_tool with input {\"city\":\"karachi\"}\n"
          ]
        },
        {
          "output_type": "stream",
          "name": "stderr",
          "text": [
            "DEBUG:openai.agents:Invoking tool weather_tool with input {\"city\":\"karachi\"}\n"
          ]
        },
        {
          "output_type": "stream",
          "name": "stdout",
          "text": [
            "Tool call args: ['karachi'], kwargs: {}\n",
            "Tool call args: ['karachi'], kwargs: {}\n",
            "Tool call args: ['karachi'], kwargs: {}\n"
          ]
        },
        {
          "output_type": "stream",
          "name": "stderr",
          "text": [
            "DEBUG:openai.agents:Tool call args: ['karachi'], kwargs: {}\n"
          ]
        },
        {
          "output_type": "stream",
          "name": "stdout",
          "text": [
            "Tool weather_tool returned The weather in karachi is sunny\n",
            "Tool weather_tool returned The weather in karachi is sunny\n",
            "Tool weather_tool returned The weather in karachi is sunny\n"
          ]
        },
        {
          "output_type": "stream",
          "name": "stderr",
          "text": [
            "DEBUG:openai.agents:Tool weather_tool returned The weather in karachi is sunny\n"
          ]
        },
        {
          "output_type": "stream",
          "name": "stdout",
          "text": [
            "Running agent General_agent (turn 2)\n",
            "Running agent General_agent (turn 2)\n",
            "Running agent General_agent (turn 2)\n"
          ]
        },
        {
          "output_type": "stream",
          "name": "stderr",
          "text": [
            "DEBUG:openai.agents:Running agent General_agent (turn 2)\n"
          ]
        },
        {
          "output_type": "stream",
          "name": "stdout",
          "text": [
            "local_context: RunContextWrapper(context=None, usage=Usage(requests=1, input_tokens=51, input_tokens_details=InputTokensDetails(cached_tokens=0), output_tokens=38, output_tokens_details=OutputTokensDetails(reasoning_tokens=0), total_tokens=89))\n",
            "Tracing is disabled. Not creating span <agents.tracing.span_data.GenerationSpanData object at 0x78677e763590>\n",
            "Tracing is disabled. Not creating span <agents.tracing.span_data.GenerationSpanData object at 0x78677e763590>\n",
            "Tracing is disabled. Not creating span <agents.tracing.span_data.GenerationSpanData object at 0x78677e763590>\n"
          ]
        },
        {
          "output_type": "stream",
          "name": "stderr",
          "text": [
            "DEBUG:openai.agents:Tracing is disabled. Not creating span <agents.tracing.span_data.GenerationSpanData object at 0x78677e763590>\n"
          ]
        },
        {
          "output_type": "stream",
          "name": "stdout",
          "text": [
            "[\n",
            "  {\n",
            "    \"role\": \"user\",\n",
            "    \"content\": \" what is the weather in karachi? also i want to refund my order - details: order id: 123123, amount: 200, reason: i want to refund my order\"\n",
            "  },\n",
            "  {\n",
            "    \"role\": \"assistant\",\n",
            "    \"content\": \"I can tell you the weather in Karachi, but I can't help you with your refund. I don't have the functionality to process refunds.\\n\\n\",\n",
            "    \"tool_calls\": [\n",
            "      {\n",
            "        \"id\": \"\",\n",
            "        \"type\": \"function\",\n",
            "        \"function\": {\n",
            "          \"name\": \"weather_tool\",\n",
            "          \"arguments\": \"{\\\"city\\\":\\\"karachi\\\"}\"\n",
            "        }\n",
            "      }\n",
            "    ]\n",
            "  },\n",
            "  {\n",
            "    \"role\": \"tool\",\n",
            "    \"tool_call_id\": \"\",\n",
            "    \"content\": \"The weather in karachi is sunny\"\n",
            "  }\n",
            "]\n",
            "Tools:\n",
            "[\n",
            "  {\n",
            "    \"type\": \"function\",\n",
            "    \"function\": {\n",
            "      \"name\": \"weather_tool\",\n",
            "      \"description\": \"\",\n",
            "      \"parameters\": {\n",
            "        \"properties\": {\n",
            "          \"city\": {\n",
            "            \"title\": \"City\",\n",
            "            \"type\": \"string\"\n",
            "          }\n",
            "        },\n",
            "        \"required\": [\n",
            "          \"city\"\n",
            "        ],\n",
            "        \"title\": \"weather_tool_args\",\n",
            "        \"type\": \"object\",\n",
            "        \"additionalProperties\": false\n",
            "      }\n",
            "    }\n",
            "  }\n",
            "]\n",
            "Stream: False\n",
            "Tool choice: NOT_GIVEN\n",
            "Response format: NOT_GIVEN\n",
            "\n",
            "[\n",
            "  {\n",
            "    \"role\": \"user\",\n",
            "    \"content\": \" what is the weather in karachi? also i want to refund my order - details: order id: 123123, amount: 200, reason: i want to refund my order\"\n",
            "  },\n",
            "  {\n",
            "    \"role\": \"assistant\",\n",
            "    \"content\": \"I can tell you the weather in Karachi, but I can't help you with your refund. I don't have the functionality to process refunds.\\n\\n\",\n",
            "    \"tool_calls\": [\n",
            "      {\n",
            "        \"id\": \"\",\n",
            "        \"type\": \"function\",\n",
            "        \"function\": {\n",
            "          \"name\": \"weather_tool\",\n",
            "          \"arguments\": \"{\\\"city\\\":\\\"karachi\\\"}\"\n",
            "        }\n",
            "      }\n",
            "    ]\n",
            "  },\n",
            "  {\n",
            "    \"role\": \"tool\",\n",
            "    \"tool_call_id\": \"\",\n",
            "    \"content\": \"The weather in karachi is sunny\"\n",
            "  }\n",
            "]\n",
            "Tools:\n",
            "[\n",
            "  {\n",
            "    \"type\": \"function\",\n",
            "    \"function\": {\n",
            "      \"name\": \"weather_tool\",\n",
            "      \"description\": \"\",\n",
            "      \"parameters\": {\n",
            "        \"properties\": {\n",
            "          \"city\": {\n",
            "            \"title\": \"City\",\n",
            "            \"type\": \"string\"\n",
            "          }\n",
            "        },\n",
            "        \"required\": [\n",
            "          \"city\"\n",
            "        ],\n",
            "        \"title\": \"weather_tool_args\",\n",
            "        \"type\": \"object\",\n",
            "        \"additionalProperties\": false\n",
            "      }\n",
            "    }\n",
            "  }\n",
            "]\n",
            "Stream: False\n",
            "Tool choice: NOT_GIVEN\n",
            "Response format: NOT_GIVEN\n",
            "\n",
            "[\n",
            "  {\n",
            "    \"role\": \"user\",\n",
            "    \"content\": \" what is the weather in karachi? also i want to refund my order - details: order id: 123123, amount: 200, reason: i want to refund my order\"\n",
            "  },\n",
            "  {\n",
            "    \"role\": \"assistant\",\n",
            "    \"content\": \"I can tell you the weather in Karachi, but I can't help you with your refund. I don't have the functionality to process refunds.\\n\\n\",\n",
            "    \"tool_calls\": [\n",
            "      {\n",
            "        \"id\": \"\",\n",
            "        \"type\": \"function\",\n",
            "        \"function\": {\n",
            "          \"name\": \"weather_tool\",\n",
            "          \"arguments\": \"{\\\"city\\\":\\\"karachi\\\"}\"\n",
            "        }\n",
            "      }\n",
            "    ]\n",
            "  },\n",
            "  {\n",
            "    \"role\": \"tool\",\n",
            "    \"tool_call_id\": \"\",\n",
            "    \"content\": \"The weather in karachi is sunny\"\n",
            "  }\n",
            "]\n",
            "Tools:\n",
            "[\n",
            "  {\n",
            "    \"type\": \"function\",\n",
            "    \"function\": {\n",
            "      \"name\": \"weather_tool\",\n",
            "      \"description\": \"\",\n",
            "      \"parameters\": {\n",
            "        \"properties\": {\n",
            "          \"city\": {\n",
            "            \"title\": \"City\",\n",
            "            \"type\": \"string\"\n",
            "          }\n",
            "        },\n",
            "        \"required\": [\n",
            "          \"city\"\n",
            "        ],\n",
            "        \"title\": \"weather_tool_args\",\n",
            "        \"type\": \"object\",\n",
            "        \"additionalProperties\": false\n",
            "      }\n",
            "    }\n",
            "  }\n",
            "]\n",
            "Stream: False\n",
            "Tool choice: NOT_GIVEN\n",
            "Response format: NOT_GIVEN\n",
            "\n"
          ]
        },
        {
          "output_type": "stream",
          "name": "stderr",
          "text": [
            "DEBUG:openai.agents:[\n",
            "  {\n",
            "    \"role\": \"user\",\n",
            "    \"content\": \" what is the weather in karachi? also i want to refund my order - details: order id: 123123, amount: 200, reason: i want to refund my order\"\n",
            "  },\n",
            "  {\n",
            "    \"role\": \"assistant\",\n",
            "    \"content\": \"I can tell you the weather in Karachi, but I can't help you with your refund. I don't have the functionality to process refunds.\\n\\n\",\n",
            "    \"tool_calls\": [\n",
            "      {\n",
            "        \"id\": \"\",\n",
            "        \"type\": \"function\",\n",
            "        \"function\": {\n",
            "          \"name\": \"weather_tool\",\n",
            "          \"arguments\": \"{\\\"city\\\":\\\"karachi\\\"}\"\n",
            "        }\n",
            "      }\n",
            "    ]\n",
            "  },\n",
            "  {\n",
            "    \"role\": \"tool\",\n",
            "    \"tool_call_id\": \"\",\n",
            "    \"content\": \"The weather in karachi is sunny\"\n",
            "  }\n",
            "]\n",
            "Tools:\n",
            "[\n",
            "  {\n",
            "    \"type\": \"function\",\n",
            "    \"function\": {\n",
            "      \"name\": \"weather_tool\",\n",
            "      \"description\": \"\",\n",
            "      \"parameters\": {\n",
            "        \"properties\": {\n",
            "          \"city\": {\n",
            "            \"title\": \"City\",\n",
            "            \"type\": \"string\"\n",
            "          }\n",
            "        },\n",
            "        \"required\": [\n",
            "          \"city\"\n",
            "        ],\n",
            "        \"title\": \"weather_tool_args\",\n",
            "        \"type\": \"object\",\n",
            "        \"additionalProperties\": false\n",
            "      }\n",
            "    }\n",
            "  }\n",
            "]\n",
            "Stream: False\n",
            "Tool choice: NOT_GIVEN\n",
            "Response format: NOT_GIVEN\n",
            "\n"
          ]
        },
        {
          "output_type": "stream",
          "name": "stdout",
          "text": [
            "LLM resp:\n",
            "{\n",
            "  \"content\": \"OK. The weather in Karachi is sunny.\\n\",\n",
            "  \"refusal\": null,\n",
            "  \"role\": \"assistant\",\n",
            "  \"annotations\": null,\n",
            "  \"audio\": null,\n",
            "  \"function_call\": null,\n",
            "  \"tool_calls\": null\n",
            "}\n",
            "\n",
            "LLM resp:\n",
            "{\n",
            "  \"content\": \"OK. The weather in Karachi is sunny.\\n\",\n",
            "  \"refusal\": null,\n",
            "  \"role\": \"assistant\",\n",
            "  \"annotations\": null,\n",
            "  \"audio\": null,\n",
            "  \"function_call\": null,\n",
            "  \"tool_calls\": null\n",
            "}\n",
            "\n",
            "LLM resp:\n",
            "{\n",
            "  \"content\": \"OK. The weather in Karachi is sunny.\\n\",\n",
            "  \"refusal\": null,\n",
            "  \"role\": \"assistant\",\n",
            "  \"annotations\": null,\n",
            "  \"audio\": null,\n",
            "  \"function_call\": null,\n",
            "  \"tool_calls\": null\n",
            "}\n",
            "\n"
          ]
        },
        {
          "output_type": "stream",
          "name": "stderr",
          "text": [
            "DEBUG:openai.agents:LLM resp:\n",
            "{\n",
            "  \"content\": \"OK. The weather in Karachi is sunny.\\n\",\n",
            "  \"refusal\": null,\n",
            "  \"role\": \"assistant\",\n",
            "  \"annotations\": null,\n",
            "  \"audio\": null,\n",
            "  \"function_call\": null,\n",
            "  \"tool_calls\": null\n",
            "}\n",
            "\n"
          ]
        },
        {
          "output_type": "stream",
          "name": "stdout",
          "text": [
            "Resetting current trace\n",
            "Resetting current trace\n",
            "Resetting current trace\n"
          ]
        },
        {
          "output_type": "stream",
          "name": "stderr",
          "text": [
            "DEBUG:openai.agents:Resetting current trace\n"
          ]
        },
        {
          "output_type": "stream",
          "name": "stdout",
          "text": [
            "OK. The weather in Karachi is sunny.\n",
            "\n",
            "Last agent:  General_agent\n"
          ]
        }
      ]
    },
    {
      "cell_type": "markdown",
      "source": [
        "## Runner.run Customisation"
      ],
      "metadata": {
        "id": "kae2TeXXY1G_"
      }
    },
    {
      "cell_type": "code",
      "source": [
        "import asyncio\n",
        "\n",
        "\n",
        "from agents import Agent, Runner, set_tracing_disabled\n",
        "\n",
        "from agents.run import AgentRunner, set_default_agent_runner\n",
        "\n",
        "set_tracing_disabled=True\n",
        "\n",
        "class CustomAgentRunner(AgentRunner):\n",
        "    async def run(self, starting_agent, input, **kwargs):\n",
        "        # Custom preprocessing\n",
        "        print(f\"i am in custom runner\")\n",
        "        # input = await self.preprocess(input)\n",
        "\n",
        "        # Call parent with custom logic\n",
        "        result = await super().run(starting_agent, input, **kwargs)\n",
        "\n",
        "        # Custom postprocessing & analytics\n",
        "        # await self.log_analytics(result)\n",
        "        return result\n",
        "\n",
        "set_default_agent_runner(CustomAgentRunner())\n",
        "\n",
        "async def main():\n",
        "    # This agent will use the custom LLM provider\n",
        "    agent = Agent(\n",
        "        name=\"Assistant\",\n",
        "        instructions=\"You only respond in haikus.\",\n",
        "    )\n",
        "\n",
        "    result = await Runner.run(\n",
        "        agent,\n",
        "        \"Tell me about recursion in programming.\",\n",
        "        run_config=config # Pass the run_config here\n",
        "    )\n",
        "    print(result)\n",
        "\n",
        "\n",
        "await main()\n",
        ""
      ],
      "metadata": {
        "colab": {
          "base_uri": "https://localhost:8080/"
        },
        "id": "-CJBXfRzk5P_",
        "outputId": "02e6f3f3-46bc-4f3d-d805-363dc254cedf"
      },
      "execution_count": 43,
      "outputs": [
        {
          "output_type": "stream",
          "name": "stdout",
          "text": [
            "i am in custom runner\n",
            "Tracing is disabled. Not creating trace Agent workflow\n",
            "Tracing is disabled. Not creating trace Agent workflow\n",
            "Tracing is disabled. Not creating trace Agent workflow\n"
          ]
        },
        {
          "output_type": "stream",
          "name": "stderr",
          "text": [
            "DEBUG:openai.agents:Tracing is disabled. Not creating trace Agent workflow\n"
          ]
        },
        {
          "output_type": "stream",
          "name": "stdout",
          "text": [
            "Setting current trace: no-op\n",
            "Setting current trace: no-op\n",
            "Setting current trace: no-op\n"
          ]
        },
        {
          "output_type": "stream",
          "name": "stderr",
          "text": [
            "DEBUG:openai.agents:Setting current trace: no-op\n"
          ]
        },
        {
          "output_type": "stream",
          "name": "stdout",
          "text": [
            "Parent None or <agents.tracing.traces.NoOpTrace object at 0x78677d1ece10> is no-op, returning NoOpSpan\n",
            "Parent None or <agents.tracing.traces.NoOpTrace object at 0x78677d1ece10> is no-op, returning NoOpSpan\n",
            "Parent None or <agents.tracing.traces.NoOpTrace object at 0x78677d1ece10> is no-op, returning NoOpSpan\n"
          ]
        },
        {
          "output_type": "stream",
          "name": "stderr",
          "text": [
            "DEBUG:openai.agents:Parent None or <agents.tracing.traces.NoOpTrace object at 0x78677d1ece10> is no-op, returning NoOpSpan\n"
          ]
        },
        {
          "output_type": "stream",
          "name": "stdout",
          "text": [
            "Running agent Assistant (turn 1)\n",
            "Running agent Assistant (turn 1)\n",
            "Running agent Assistant (turn 1)\n"
          ]
        },
        {
          "output_type": "stream",
          "name": "stderr",
          "text": [
            "DEBUG:openai.agents:Running agent Assistant (turn 1)\n"
          ]
        },
        {
          "output_type": "stream",
          "name": "stdout",
          "text": [
            "Tracing is disabled. Not creating span <agents.tracing.span_data.GenerationSpanData object at 0x78677df24c50>\n",
            "Tracing is disabled. Not creating span <agents.tracing.span_data.GenerationSpanData object at 0x78677df24c50>\n",
            "Tracing is disabled. Not creating span <agents.tracing.span_data.GenerationSpanData object at 0x78677df24c50>\n"
          ]
        },
        {
          "output_type": "stream",
          "name": "stderr",
          "text": [
            "DEBUG:openai.agents:Tracing is disabled. Not creating span <agents.tracing.span_data.GenerationSpanData object at 0x78677df24c50>\n"
          ]
        },
        {
          "output_type": "stream",
          "name": "stdout",
          "text": [
            "[\n",
            "  {\n",
            "    \"content\": \"You only respond in haikus.\",\n",
            "    \"role\": \"system\"\n",
            "  },\n",
            "  {\n",
            "    \"role\": \"user\",\n",
            "    \"content\": \"Tell me about recursion in programming.\"\n",
            "  }\n",
            "]\n",
            "Tools:\n",
            "[]\n",
            "Stream: False\n",
            "Tool choice: NOT_GIVEN\n",
            "Response format: NOT_GIVEN\n",
            "\n",
            "[\n",
            "  {\n",
            "    \"content\": \"You only respond in haikus.\",\n",
            "    \"role\": \"system\"\n",
            "  },\n",
            "  {\n",
            "    \"role\": \"user\",\n",
            "    \"content\": \"Tell me about recursion in programming.\"\n",
            "  }\n",
            "]\n",
            "Tools:\n",
            "[]\n",
            "Stream: False\n",
            "Tool choice: NOT_GIVEN\n",
            "Response format: NOT_GIVEN\n",
            "\n",
            "[\n",
            "  {\n",
            "    \"content\": \"You only respond in haikus.\",\n",
            "    \"role\": \"system\"\n",
            "  },\n",
            "  {\n",
            "    \"role\": \"user\",\n",
            "    \"content\": \"Tell me about recursion in programming.\"\n",
            "  }\n",
            "]\n",
            "Tools:\n",
            "[]\n",
            "Stream: False\n",
            "Tool choice: NOT_GIVEN\n",
            "Response format: NOT_GIVEN\n",
            "\n"
          ]
        },
        {
          "output_type": "stream",
          "name": "stderr",
          "text": [
            "DEBUG:openai.agents:[\n",
            "  {\n",
            "    \"content\": \"You only respond in haikus.\",\n",
            "    \"role\": \"system\"\n",
            "  },\n",
            "  {\n",
            "    \"role\": \"user\",\n",
            "    \"content\": \"Tell me about recursion in programming.\"\n",
            "  }\n",
            "]\n",
            "Tools:\n",
            "[]\n",
            "Stream: False\n",
            "Tool choice: NOT_GIVEN\n",
            "Response format: NOT_GIVEN\n",
            "\n"
          ]
        },
        {
          "output_type": "stream",
          "name": "stdout",
          "text": [
            "LLM resp:\n",
            "{\n",
            "  \"content\": \"A function calls self,\\nBreaking down problems small,\\nBase case ends the loop.\\n\",\n",
            "  \"refusal\": null,\n",
            "  \"role\": \"assistant\",\n",
            "  \"annotations\": null,\n",
            "  \"audio\": null,\n",
            "  \"function_call\": null,\n",
            "  \"tool_calls\": null\n",
            "}\n",
            "\n",
            "LLM resp:\n",
            "{\n",
            "  \"content\": \"A function calls self,\\nBreaking down problems small,\\nBase case ends the loop.\\n\",\n",
            "  \"refusal\": null,\n",
            "  \"role\": \"assistant\",\n",
            "  \"annotations\": null,\n",
            "  \"audio\": null,\n",
            "  \"function_call\": null,\n",
            "  \"tool_calls\": null\n",
            "}\n",
            "\n",
            "LLM resp:\n",
            "{\n",
            "  \"content\": \"A function calls self,\\nBreaking down problems small,\\nBase case ends the loop.\\n\",\n",
            "  \"refusal\": null,\n",
            "  \"role\": \"assistant\",\n",
            "  \"annotations\": null,\n",
            "  \"audio\": null,\n",
            "  \"function_call\": null,\n",
            "  \"tool_calls\": null\n",
            "}\n",
            "\n"
          ]
        },
        {
          "output_type": "stream",
          "name": "stderr",
          "text": [
            "DEBUG:openai.agents:LLM resp:\n",
            "{\n",
            "  \"content\": \"A function calls self,\\nBreaking down problems small,\\nBase case ends the loop.\\n\",\n",
            "  \"refusal\": null,\n",
            "  \"role\": \"assistant\",\n",
            "  \"annotations\": null,\n",
            "  \"audio\": null,\n",
            "  \"function_call\": null,\n",
            "  \"tool_calls\": null\n",
            "}\n",
            "\n"
          ]
        },
        {
          "output_type": "stream",
          "name": "stdout",
          "text": [
            "Resetting current trace\n",
            "Resetting current trace\n",
            "Resetting current trace\n"
          ]
        },
        {
          "output_type": "stream",
          "name": "stderr",
          "text": [
            "DEBUG:openai.agents:Resetting current trace\n"
          ]
        },
        {
          "output_type": "stream",
          "name": "stdout",
          "text": [
            "RunResult:\n",
            "- Last agent: Agent(name=\"Assistant\", ...)\n",
            "- Final output (str):\n",
            "    A function calls self,\n",
            "    Breaking down problems small,\n",
            "    Base case ends the loop.\n",
            "- 1 new item(s)\n",
            "- 1 raw response(s)\n",
            "- 0 input guardrail result(s)\n",
            "- 0 output guardrail result(s)\n",
            "(See `RunResult` for more details)\n"
          ]
        }
      ]
    }
  ]
}